{
 "cells": [
  {
   "cell_type": "markdown",
   "metadata": {},
   "source": [
    "# Introduction"
   ]
  },
  {
   "cell_type": "markdown",
   "metadata": {},
   "source": [
    "\"What insights can you create from this data? Can you predict map picks? Map winners? Combine those predictions and predict match winners? Give it a try!\" - Machado\n",
    "\n",
    "https://www.kaggle.com/mateusdmachado/csgo-professional-matches?select=results.csv"
   ]
  },
  {
   "cell_type": "code",
   "execution_count": 1,
   "metadata": {},
   "outputs": [],
   "source": [
    "import pandas as pd\n",
    "import numpy as np\n",
    "from matplotlib import pyplot as plt"
   ]
  },
  {
   "cell_type": "code",
   "execution_count": 2,
   "metadata": {},
   "outputs": [
    {
     "name": "stderr",
     "output_type": "stream",
     "text": [
      "C:\\Users\\jared\\Anaconda3\\lib\\site-packages\\IPython\\core\\interactiveshell.py:3058: DtypeWarning: Columns (5) have mixed types. Specify dtype option on import or set low_memory=False.\n",
      "  interactivity=interactivity, compiler=compiler, result=result)\n"
     ]
    }
   ],
   "source": [
    "economy_df = pd.read_csv('./economy.csv')\n",
    "picks_df = pd.read_csv('./picks.csv')\n",
    "players_df = pd.read_csv('./players.csv')\n",
    "results_df = pd.read_csv('./results.csv')"
   ]
  },
  {
   "cell_type": "markdown",
   "metadata": {},
   "source": [
    "# Summary\n",
    "- First we perform exploratory analysis and visualization to have a better understanding of the data that we are working with\n",
    "- Next, we construct our baseline classification model using sklearn's `DecisionTreeClassifier` which yields a **baseline accuracy of 0.563**.\n",
    "- Realizing opportunity for improved model performance, we drop noisy columns and engineer new features, yielding a new accuracy of **0.583**.\n",
    "- Further improving upon our model, grid search provides us with optimal hyperparameter tuning and gives us another 1% of model accuracy - improving it to **0.592**.\n",
    "- As an experimental aside, model accuracy jumps to **0.670** when adding the results of the first 5 rounds as features. Although, we recognize that this is insider information that cannot be used when using this model in practice.\n",
    "- Finally performing A/B testing to answer an EDA question of whether Swedish players tend to be better than United States players, we get a **p-value < 0.001**. This can be interpreted as teams of Swedish players have high mean ranking than teams of United States players."
   ]
  },
  {
   "cell_type": "markdown",
   "metadata": {},
   "source": [
    "# Understanding the Game"
   ]
  },
  {
   "cell_type": "markdown",
   "metadata": {},
   "source": [
    "In this section, we will briefly view a single map between the teams Navi Vincere and G2 in order to better understand the game on an introductory level. Counter Strike: Global Offensive (CSGO) is a game in which there are two teams that fight in order to complete an objective. The \"terrorist\" team aims to plant a bomb at a bomb site while the \"counter-terrorist\" team aims to prevent these terrorists from doing so. The teams swap roles (terrorist vs. counter-terrorist) at half-time, or 15 rounds."
   ]
  },
  {
   "cell_type": "code",
   "execution_count": 3,
   "metadata": {},
   "outputs": [],
   "source": [
    "map1 = economy_df.iloc[0]"
   ]
  },
  {
   "cell_type": "markdown",
   "metadata": {},
   "source": [
    "### Wins by Round"
   ]
  },
  {
   "cell_type": "markdown",
   "metadata": {},
   "source": [
    "One simple visualization is a graphic that indicates which teams win at which rounds. We will also begin doing some minor rearranging to make things look nicer."
   ]
  },
  {
   "cell_type": "code",
   "execution_count": 4,
   "metadata": {
    "scrolled": false
   },
   "outputs": [],
   "source": [
    "# getting team 1 start side (terrorist vs. counter-terrorist)\n",
    "helper = lambda x: 'terrorist start' if x == 't' else 'counter-terrorist start'\n",
    "t1_start = helper(map1.loc['t1_start'])\n",
    "\n",
    "# getting DataFrame of all rounds\n",
    "temp = map1.loc['1_winner':'30_winner']\n",
    "\n",
    "# dropping null values (null values are rounds which are not played because the maps are a first to 16 basis)\n",
    "temp = temp.dropna()\n",
    "\n",
    "# converting integers to team names\n",
    "mapping = {2: 'Natus Vincere', 1: 'G2'}\n",
    "temp = temp.map(mapping)\n",
    "\n",
    "# relabeling indexes to integers to represent rounds\n",
    "temp = temp.rename(index={round: i+1 for (i, round) in enumerate(temp.index)})"
   ]
  },
  {
   "cell_type": "markdown",
   "metadata": {},
   "source": [
    "After doing some minor rearranging we can plot a chart for the winner of each round of the map. Notice that the rounds end at 20 here because the maps conclude after one team reaches 16 winning rounds first. In this case, Natus Vincere won by round 20. Other maps may extend to 30+ rounds if overtime conditions are met."
   ]
  },
  {
   "cell_type": "code",
   "execution_count": 5,
   "metadata": {},
   "outputs": [
    {
     "data": {
      "image/png": "[encoded data removed]",
      "text/plain": [
       "<Figure size 432x288 with 1 Axes>"
      ]
     },
     "metadata": {
      "needs_background": "light"
     },
     "output_type": "display_data"
    }
   ],
   "source": [
    "# creating plot\n",
    "fig1 = plt.figure()\n",
    "plt.subplot(2,1,1)\n",
    "colors = ['r' if team == 'G2' else 'b' for team in temp.values]\n",
    "plt.scatter(x=temp.index, y=temp.values, c=colors, marker='x')\n",
    "\n",
    "# labeling and coloring\n",
    "plt.title('Winner of Each Round of map1', fontsize=13.5, y=1.05)\n",
    "plt.xlabel('Round Number')\n",
    "plt.ylabel('Team')\n",
    "plt.xticks(ticks=np.arange(1, len(temp)+1))\n",
    "colors = ['b', 'r']\n",
    "for ticklabel, tickcolor in zip(plt.gca().get_yticklabels(), colors):\n",
    "    ticklabel.set_color(tickcolor)\n",
    "\n",
    "# adding vertical line to indicate a swapping of sides\n",
    "plt.axvline(x=15.5,c='black')\n",
    "plt.text(0.75,0.75,t1_start,color='red')\n",
    "plt.text(15.5,0.275,'half-time',rotation=90);\n",
    "plt.text(19.40,0.075,'win');"
   ]
  },
  {
   "cell_type": "markdown",
   "metadata": {},
   "source": [
    "### Economy by Round"
   ]
  },
  {
   "cell_type": "markdown",
   "metadata": {},
   "source": [
    "Additionally, we can visualize the game economy of the two teams. In CSGO, the winner of each round is granted greater money for spending on greater weapons, utility, and etc. towards the coming rounds. Therefore on any given round, we expect the team with the more expensive arsenal to win."
   ]
  },
  {
   "cell_type": "code",
   "execution_count": 6,
   "metadata": {},
   "outputs": [],
   "source": [
    "temp = map1.loc['1_t1':'30_t2']\n",
    "temp = temp.dropna()\n",
    "\n",
    "# splitting the economy into the respective teams: \n",
    "# temp_1 refers to team 1 (G2) \n",
    "# temp_2 refers to team 2 (Natus Vincere)\n",
    "temp_1, temp_2 = temp.iloc[:len(temp)//2], temp.iloc[len(temp)//2:]\n",
    "temp_1 = temp_1.rename(index={round:i+1 for i,round in enumerate(temp_1.index)})\n",
    "temp_2 = temp_2.rename(index={round:i+1 for i,round in enumerate(temp_2.index)})"
   ]
  },
  {
   "cell_type": "markdown",
   "metadata": {},
   "source": [
    "After the minor cleaning/rearranging, we can see that the economy of Natus Vincere is much more abundant throughout the map and this is expected based off of our previous graph; the previous graph showed how Natus Vincere won many more rounds and the game rewards winning teams with greater wealth as also shown here.\n",
    "\n",
    "One interesting visual point here is that the game economy of G2 undulates back and forth from low economy (or \"save\" rounds) and large economy (or \"buy\" rounds). This is typically because as a team undergoes a \"losing streak,\" their economy is highly sensitive, and therefore, they may opt for \"saving\" one round in order to \"full buy\" the successive round. However, once a team loses this \"full buy\" round, their economy drops back to low amounts and the vicious cycle repeats. On a somewhat related note, it is also interesting to see that on round 10, G2 does not have a low economy despite the undulating pattern. This is due to their previous round's win (round 9) where the game rewarded G2 with more money upon success."
   ]
  },
  {
   "cell_type": "code",
   "execution_count": 7,
   "metadata": {
    "scrolled": false
   },
   "outputs": [
    {
     "data": {
      "image/png": "[encoded data removed]",
      "text/plain": [
       "<Figure size 432x288 with 2 Axes>"
      ]
     },
     "metadata": {
      "needs_background": "light"
     },
     "output_type": "display_data"
    }
   ],
   "source": [
    "# creating plot\n",
    "fig2, axes = plt.subplots(2)\n",
    "fig2.subplots_adjust(hspace=0.5)\n",
    "axes[0].bar(x=temp_1.index, height=temp_1.values, color='r')\n",
    "axes[1].bar(x=temp_2.index,height=temp_2.values, color='b')\n",
    "\n",
    "# labeling\n",
    "fig2.suptitle('Economy per Round of map1', fontsize=13.5, y=1.025)\n",
    "axes[0].set_title('G2', color='r')\n",
    "axes[1].set_title('Natus Vincere', color='b')\n",
    "axes[0].set_ylabel('Economy')\n",
    "axes[1].set_ylabel('Economy')\n",
    "axes[0].set_xticks(ticks=np.arange(1, len(temp_1)+1));\n",
    "axes[1].set_xticks(ticks=np.arange(1, len(temp_2)+1));\n",
    "\n",
    "# adding vertical line to indicate a swapping of sides\n",
    "axes[0].axvline(x=15.5, color='black');\n",
    "axes[1].axvline(x=15.5, color='black');"
   ]
  },
  {
   "cell_type": "markdown",
   "metadata": {},
   "source": [
    "# EDA\n",
    "Here, we begin to wonder: *What teams win the most?* *Where do these teams come from?* *What are the current leaderboards?* This section will seek to answer some of these general questions which will help guide us in the right direction toward model training."
   ]
  },
  {
   "cell_type": "code",
   "execution_count": 8,
   "metadata": {},
   "outputs": [],
   "source": [
    "def pivot_results(df, year=None, single=False):\n",
    "\n",
    "    temp = df[['date', 'team_1', 'team_2', 'map_winner', 'rank_1', 'rank_2']].applymap(lambda x: str.lower(x) if type(x) == str else x)\n",
    "    temp['date'] = pd.to_datetime(temp['date']).apply(lambda x: x.year)\n",
    "    \n",
    "    if year:\n",
    "        if single:\n",
    "            temp = temp[temp['date'] == year]\n",
    "        else:\n",
    "            temp = temp[temp['date'] >= year]\n",
    "\n",
    "    index_1 = temp['team_1'].unique()\n",
    "    index_2 = temp['team_2'].unique()\n",
    "    index = set(np.append(index_1, index_2))\n",
    "\n",
    "    count = []\n",
    "    wins = []\n",
    "    win_rate = []\n",
    "    mean_rank = []\n",
    "\n",
    "    for team in index:\n",
    "        rows_1 = temp.loc[temp['team_1'] == team]\n",
    "        rows_2 = temp.loc[temp['team_2'] == team]\n",
    "\n",
    "        total = (\n",
    "            len(rows_1) + \n",
    "            len(rows_2)\n",
    "        )\n",
    "        x = (\n",
    "            len(rows_1[rows_1['map_winner'] == 1]) +\n",
    "            len(rows_2[rows_2['map_winner'] == 2])\n",
    "        )\n",
    "        rank_total = (\n",
    "            sum(rows_1['rank_1']) + \n",
    "            sum(rows_2['rank_2'])\n",
    "        )\n",
    "        count.append(total)\n",
    "        wins.append(x)\n",
    "        win_rate.append(x/total)\n",
    "        mean_rank.append(rank_total/total)\n",
    "\n",
    "    output = pd.DataFrame(data={'count': count, 'wins': wins, 'win_rate': win_rate, 'mean_rank': mean_rank}, index=index)\n",
    "    \n",
    "    return output"
   ]
  },
  {
   "cell_type": "code",
   "execution_count": 9,
   "metadata": {},
   "outputs": [],
   "source": [
    "pivot_df = pivot_results(results_df)"
   ]
  },
  {
   "cell_type": "code",
   "execution_count": 10,
   "metadata": {
    "scrolled": true
   },
   "outputs": [
    {
     "data": {
      "image/png": "[encoded data removed]",
      "text/plain": [
       "<Figure size 432x288 with 1 Axes>"
      ]
     },
     "metadata": {
      "needs_background": "light"
     },
     "output_type": "display_data"
    }
   ],
   "source": [
    "temp = pivot_df['wins'].sort_values(ascending=False)\n",
    "\n",
    "plt.bar(x=temp[:10].index, height=temp[:10]);\n",
    "plt.title('Top 10 Teams by Number of Wins');\n",
    "plt.xlabel('Team');\n",
    "plt.ylabel('Number of Wins');\n",
    "plt.xticks(rotation=45);"
   ]
  },
  {
   "cell_type": "markdown",
   "metadata": {},
   "source": [
    "Plotting the top 10 teams by total number of wins, **Liquid** has the most number of wins."
   ]
  },
  {
   "cell_type": "code",
   "execution_count": 11,
   "metadata": {
    "scrolled": true
   },
   "outputs": [
    {
     "data": {
      "image/png": "[encoded data removed]",
      "text/plain": [
       "<Figure size 432x288 with 1 Axes>"
      ]
     },
     "metadata": {
      "needs_background": "light"
     },
     "output_type": "display_data"
    }
   ],
   "source": [
    "temp = pivot_df[pivot_df['count'] >= 30]['win_rate'].sort_values(ascending=False)\n",
    "\n",
    "plt.bar(x=temp.index[:10], height=temp[:10])\n",
    "plt.title('Top 10 Teams by Win Rate');\n",
    "plt.xlabel('Team');\n",
    "plt.ylabel('Win Rate');\n",
    "plt.xticks(rotation=45);"
   ]
  },
  {
   "cell_type": "markdown",
   "metadata": {},
   "source": [
    "Plotting the top 10 teams by win rate, excluding teams with small match history (using an arbitrary threshold of n >= 30), **G3X** has the highest win rate."
   ]
  },
  {
   "cell_type": "code",
   "execution_count": 12,
   "metadata": {},
   "outputs": [
    {
     "data": {
      "image/png": "[encoded data removed]",
      "text/plain": [
       "<Figure size 432x288 with 1 Axes>"
      ]
     },
     "metadata": {
      "needs_background": "light"
     },
     "output_type": "display_data"
    }
   ],
   "source": [
    "temp = pivot_df[pivot_df['count'] >= 30]['mean_rank'].sort_values()\n",
    "\n",
    "plt.bar(x=temp.index[:10], height=temp[:10]);\n",
    "plt.title('Top 10 Teams by Mean Rank');\n",
    "plt.xlabel('Team');\n",
    "plt.ylabel('Mean Rank');\n",
    "plt.xticks(rotation=45);"
   ]
  },
  {
   "cell_type": "markdown",
   "metadata": {},
   "source": [
    "Plotting the top 10 teams by mean rank (the lower the better). **Evil Geniuses** has the best mean rank with Astralis at a very close second."
   ]
  },
  {
   "cell_type": "code",
   "execution_count": 13,
   "metadata": {},
   "outputs": [
    {
     "name": "stderr",
     "output_type": "stream",
     "text": [
      "C:\\Users\\jared\\Anaconda3\\lib\\site-packages\\pandas\\core\\indexing.py:494: SettingWithCopyWarning: \n",
      "A value is trying to be set on a copy of a slice from a DataFrame.\n",
      "Try using .loc[row_indexer,col_indexer] = value instead\n",
      "\n",
      "See the caveats in the documentation: http://pandas.pydata.org/pandas-docs/stable/user_guide/indexing.html#returning-a-view-versus-a-copy\n",
      "  self.obj[item] = s\n"
     ]
    },
    {
     "data": {
      "image/png": "[encoded data removed]",
      "text/plain": [
       "<Figure size 576x576 with 1 Axes>"
      ]
     },
     "metadata": {},
     "output_type": "display_data"
    }
   ],
   "source": [
    "top_10 = pivot_df[pivot_df['count'] >= 30]['mean_rank'].sort_values()[:10].index\n",
    "index = players_df['player_id'].unique()\n",
    "temp = players_df.iloc[index]\n",
    "temp.loc[:, 'team'] = temp.loc[:, 'team'].str.lower()\n",
    "is_top_10 = temp['team'].apply(lambda x: True if x in top_10 else False)\n",
    "temp = temp.assign(**{'is_top_10': is_top_10})\n",
    "temp = temp[temp['is_top_10'] == True]\n",
    "temp = temp['country'].value_counts()\n",
    "temp = temp[:8].append(pd.Series({'Other': sum(temp[8:])}))\n",
    "\n",
    "fig = plt.gcf()\n",
    "fig.set_size_inches(8,8)\n",
    "\n",
    "plt.pie(x=temp, labels=temp.index, explode=np.repeat(np.array([0.05]),9), autopct='%1.1f%%', startangle=90, shadow=True);\n",
    "plt.title('Player Origins of the Top 10 Mean Ranking Teams')\n",
    "plt.legend(loc='right', bbox_to_anchor=(1.35,0.5));"
   ]
  },
  {
   "cell_type": "markdown",
   "metadata": {},
   "source": [
    "Plotting the player origins of the top 10 teams in mean rank. **Sweden** is the single most likely country that players from the top 10 teams come from."
   ]
  },
  {
   "cell_type": "markdown",
   "metadata": {},
   "source": [
    "\n",
    "# Building a Baseline Classification Model\n",
    "With such a large and complex dataset, we can simplify things and build a baseline model with a small, comfortable set of features instead"
   ]
  },
  {
   "cell_type": "markdown",
   "metadata": {},
   "source": [
    "### Cleaning the Dataset"
   ]
  },
  {
   "cell_type": "markdown",
   "metadata": {},
   "source": [
    "Here, we will only merge the two dataframes of `economy_df` and `results_df`. However since they each contain several features that we may not want, we will drop many of the columns in preparation to training."
   ]
  },
  {
   "cell_type": "code",
   "execution_count": 14,
   "metadata": {},
   "outputs": [],
   "source": [
    "def clean_economy(df):\n",
    "    # dropping unneeded columns\n",
    "    temp = df.drop(economy_df.loc[:, '1_t1':'30_winner'], axis=1)\n",
    "    temp = temp.drop(['date', 'event_id'], axis=1)\n",
    "    # converting strings to lower\n",
    "    temp['team_1'] = temp['team_1'].apply(str.lower)\n",
    "    temp['team_2'] = temp['team_2'].apply(str.lower)\n",
    "    temp['_map'] = temp['_map'].apply(str.lower)\n",
    "    # dropping 'best_of' entries with unusual value of 'o'\n",
    "    temp = temp[temp['best_of'] != 'o']\n",
    "    # converting 'best_of' to int\n",
    "    temp['best_of'] = temp['best_of'].astype(int)\n",
    "    return temp\n",
    "    \n",
    "temp_economy = clean_economy(economy_df)"
   ]
  },
  {
   "cell_type": "code",
   "execution_count": 15,
   "metadata": {
    "scrolled": true
   },
   "outputs": [],
   "source": [
    "def clean_results(df):\n",
    "    # dropping unneeded columns\n",
    "    temp = results_df.drop(['date', 'result_1', 'result_2', 'starting_ct', 'ct_1', 't_2', 't_1', 'ct_2', 'event_id', 'map_wins_1', 'map_wins_2', 'match_winner'], axis=1)\n",
    "    # converting strings to lower\n",
    "    temp['team_1'] = temp['team_1'].apply(str.lower)\n",
    "    temp['team_2'] = temp['team_2'].apply(str.lower)\n",
    "    temp['_map'] = temp['_map'].apply(str.lower)\n",
    "    return temp\n",
    "\n",
    "temp_results = clean_results(results_df)"
   ]
  },
  {
   "cell_type": "markdown",
   "metadata": {},
   "source": [
    "This is the new merged dataset."
   ]
  },
  {
   "cell_type": "code",
   "execution_count": 16,
   "metadata": {
    "scrolled": true
   },
   "outputs": [
    {
     "data": {
      "text/html": [
       "<div>\n",
       "<style scoped>\n",
       "    .dataframe tbody tr th:only-of-type {\n",
       "        vertical-align: middle;\n",
       "    }\n",
       "\n",
       "    .dataframe tbody tr th {\n",
       "        vertical-align: top;\n",
       "    }\n",
       "\n",
       "    .dataframe thead th {\n",
       "        text-align: right;\n",
       "    }\n",
       "</style>\n",
       "<table border=\"1\" class=\"dataframe\">\n",
       "  <thead>\n",
       "    <tr style=\"text-align: right;\">\n",
       "      <th></th>\n",
       "      <th>opp_team</th>\n",
       "      <th>_map</th>\n",
       "      <th>won</th>\n",
       "      <th>match_id</th>\n",
       "      <th>rank</th>\n",
       "      <th>opp_rank</th>\n",
       "      <th>best_of</th>\n",
       "      <th>t_start</th>\n",
       "      <th>ct_start</th>\n",
       "    </tr>\n",
       "  </thead>\n",
       "  <tbody>\n",
       "    <tr>\n",
       "      <td>20</td>\n",
       "      <td>astralis</td>\n",
       "      <td>nuke</td>\n",
       "      <td>1</td>\n",
       "      <td>2339401</td>\n",
       "      <td>6</td>\n",
       "      <td>1</td>\n",
       "      <td>3</td>\n",
       "      <td>0</td>\n",
       "      <td>1</td>\n",
       "    </tr>\n",
       "    <tr>\n",
       "      <td>21</td>\n",
       "      <td>astralis</td>\n",
       "      <td>dust2</td>\n",
       "      <td>1</td>\n",
       "      <td>2339401</td>\n",
       "      <td>6</td>\n",
       "      <td>1</td>\n",
       "      <td>3</td>\n",
       "      <td>1</td>\n",
       "      <td>0</td>\n",
       "    </tr>\n",
       "    <tr>\n",
       "      <td>34</td>\n",
       "      <td>liquid</td>\n",
       "      <td>dust2</td>\n",
       "      <td>1</td>\n",
       "      <td>2339399</td>\n",
       "      <td>6</td>\n",
       "      <td>3</td>\n",
       "      <td>3</td>\n",
       "      <td>1</td>\n",
       "      <td>0</td>\n",
       "    </tr>\n",
       "    <tr>\n",
       "      <td>37</td>\n",
       "      <td>liquid</td>\n",
       "      <td>mirage</td>\n",
       "      <td>1</td>\n",
       "      <td>2339399</td>\n",
       "      <td>6</td>\n",
       "      <td>3</td>\n",
       "      <td>3</td>\n",
       "      <td>0</td>\n",
       "      <td>1</td>\n",
       "    </tr>\n",
       "    <tr>\n",
       "      <td>56</td>\n",
       "      <td>faze</td>\n",
       "      <td>inferno</td>\n",
       "      <td>1</td>\n",
       "      <td>2339397</td>\n",
       "      <td>6</td>\n",
       "      <td>9</td>\n",
       "      <td>3</td>\n",
       "      <td>0</td>\n",
       "      <td>1</td>\n",
       "    </tr>\n",
       "    <tr>\n",
       "      <td>...</td>\n",
       "      <td>...</td>\n",
       "      <td>...</td>\n",
       "      <td>...</td>\n",
       "      <td>...</td>\n",
       "      <td>...</td>\n",
       "      <td>...</td>\n",
       "      <td>...</td>\n",
       "      <td>...</td>\n",
       "      <td>...</td>\n",
       "    </tr>\n",
       "    <tr>\n",
       "      <td>31313</td>\n",
       "      <td>north</td>\n",
       "      <td>mirage</td>\n",
       "      <td>0</td>\n",
       "      <td>2311225</td>\n",
       "      <td>6</td>\n",
       "      <td>5</td>\n",
       "      <td>1</td>\n",
       "      <td>1</td>\n",
       "      <td>0</td>\n",
       "    </tr>\n",
       "    <tr>\n",
       "      <td>31317</td>\n",
       "      <td>mousesports</td>\n",
       "      <td>cobblestone</td>\n",
       "      <td>0</td>\n",
       "      <td>2311222</td>\n",
       "      <td>6</td>\n",
       "      <td>15</td>\n",
       "      <td>1</td>\n",
       "      <td>0</td>\n",
       "      <td>1</td>\n",
       "    </tr>\n",
       "    <tr>\n",
       "      <td>31320</td>\n",
       "      <td>nrg</td>\n",
       "      <td>cobblestone</td>\n",
       "      <td>1</td>\n",
       "      <td>2311235</td>\n",
       "      <td>6</td>\n",
       "      <td>31</td>\n",
       "      <td>1</td>\n",
       "      <td>1</td>\n",
       "      <td>0</td>\n",
       "    </tr>\n",
       "    <tr>\n",
       "      <td>31335</td>\n",
       "      <td>liquid</td>\n",
       "      <td>train</td>\n",
       "      <td>1</td>\n",
       "      <td>2311220</td>\n",
       "      <td>6</td>\n",
       "      <td>19</td>\n",
       "      <td>1</td>\n",
       "      <td>1</td>\n",
       "      <td>0</td>\n",
       "    </tr>\n",
       "    <tr>\n",
       "      <td>31695</td>\n",
       "      <td>fnatic</td>\n",
       "      <td>overpass</td>\n",
       "      <td>1</td>\n",
       "      <td>2309400</td>\n",
       "      <td>6</td>\n",
       "      <td>11</td>\n",
       "      <td>1</td>\n",
       "      <td>0</td>\n",
       "      <td>1</td>\n",
       "    </tr>\n",
       "  </tbody>\n",
       "</table>\n",
       "<p>514 rows × 9 columns</p>\n",
       "</div>"
      ],
      "text/plain": [
       "          opp_team         _map  won  match_id  rank  opp_rank  best_of  \\\n",
       "20        astralis         nuke    1   2339401     6         1        3   \n",
       "21        astralis        dust2    1   2339401     6         1        3   \n",
       "34          liquid        dust2    1   2339399     6         3        3   \n",
       "37          liquid       mirage    1   2339399     6         3        3   \n",
       "56            faze      inferno    1   2339397     6         9        3   \n",
       "...            ...          ...  ...       ...   ...       ...      ...   \n",
       "31313        north       mirage    0   2311225     6         5        1   \n",
       "31317  mousesports  cobblestone    0   2311222     6        15        1   \n",
       "31320          nrg  cobblestone    1   2311235     6        31        1   \n",
       "31335       liquid        train    1   2311220     6        19        1   \n",
       "31695       fnatic     overpass    1   2309400     6        11        1   \n",
       "\n",
       "       t_start  ct_start  \n",
       "20           0         1  \n",
       "21           1         0  \n",
       "34           1         0  \n",
       "37           0         1  \n",
       "56           0         1  \n",
       "...        ...       ...  \n",
       "31313        1         0  \n",
       "31317        0         1  \n",
       "31320        1         0  \n",
       "31335        1         0  \n",
       "31695        0         1  \n",
       "\n",
       "[514 rows x 9 columns]"
      ]
     },
     "execution_count": 16,
     "metadata": {},
     "output_type": "execute_result"
    }
   ],
   "source": [
    "# merging the two clean dataframes\n",
    "merged_df = temp_results.merge(temp_economy, on=['match_id', '_map', 'team_1', 'team_2']) #.drop('match_id', axis=1)\n",
    "# creating 'temp_1' for when 'Natus Vincere' is team 1 and 'temp_2' for when Natus Vincere is team 2\n",
    "temp_1, temp_2 = merged_df[merged_df['team_1'] == 'natus vincere'], merged_df[merged_df['team_2'] == 'natus vincere']\n",
    "\n",
    "# renaming columns of temp_1 prior to concatenating\n",
    "temp_1 = temp_1.drop('team_1', axis=1).rename(\n",
    "    columns={'team_2': 'opp_team', 'map_winner': 'won', 'rank_1': 'rank', 'rank_2': 'opp_rank', 't1_start': 't_start', 't2_start': 'ct_start'}\n",
    ")\n",
    "# converting 'won', 't_start', and 'ct_start' to binary values\n",
    "temp_1.loc[:, 'won'] = temp_1.loc[:, 'won'].apply(lambda x: 1 if x == 1 else 0)\n",
    "temp_1.loc[:, 't_start'] = temp_1.loc[:, 't_start'].apply(lambda x: 1 if x == 't' else 0)\n",
    "temp_1.loc[:, 'ct_start'] = temp_1.loc[:, 't_start'].apply(lambda x: 1 if x == 0 else 0)\n",
    "\n",
    "# renaming columns of temp_2 prior to merging\n",
    "temp_2 = temp_2.drop('team_2', axis=1).rename(\n",
    "    columns={'team_1': 'opp_team', 'map_winner': 'won', 'rank_2': 'rank', 'rank_1': 'opp_rank', 't1_start': 't_start', 't2_start': 'ct_start'}\n",
    ")\n",
    "# converting 'won', 't_start', and 'ct_start' to binary values\n",
    "temp_2.loc[:, 'won'] = temp_2.loc[:, 'won'].apply(lambda x: 1 if x == 2 else 0)\n",
    "temp_2.loc[:, 't_start'] = temp_2.loc[:, 'ct_start'].apply(lambda x: 1 if x == 't' else 0)\n",
    "temp_2.loc[:, 'ct_start'] = temp_2.loc[:, 't_start'].apply(lambda x: 1 if x == 0 else 0)\n",
    "\n",
    "# concatenating 'temp_1' and 'temp_2' now that column names and values match\n",
    "df = pd.concat([temp_1, temp_2], sort=False)\n",
    "df"
   ]
  },
  {
   "cell_type": "markdown",
   "metadata": {},
   "source": [
    "### Fitting the Baseline Model"
   ]
  },
  {
   "cell_type": "markdown",
   "metadata": {},
   "source": [
    "Here, we will fit the cleaned dataset into `sklearn`'s `DecisionTreeClassifier`. Since this is simply baseline model for speculation, we do not expect it to have particularly high accuracy."
   ]
  },
  {
   "cell_type": "code",
   "execution_count": 17,
   "metadata": {},
   "outputs": [
    {
     "name": "stdout",
     "output_type": "stream",
     "text": [
      "Training size (%):  0.7996108949416343\n",
      "Testing size (%):  0.20038910505836577\n"
     ]
    }
   ],
   "source": [
    "# import warnings filter\n",
    "from warnings import simplefilter\n",
    "# ignore all future warnings\n",
    "simplefilter(action='ignore', category=FutureWarning)\n",
    "\n",
    "from sklearn.model_selection import train_test_split\n",
    "from sklearn.preprocessing import OneHotEncoder\n",
    "from sklearn.tree import DecisionTreeClassifier\n",
    "\n",
    "# separating data into feature vectors and target vectors\n",
    "X = df.drop('won', axis=1)\n",
    "y = df['won']\n",
    "\n",
    "# preprocessing data\n",
    "onehot = OneHotEncoder()\n",
    "X_onehot = onehot.fit_transform(X)\n",
    "\n",
    "# splitting data into training and testing sets\n",
    "X_train, X_test, y_train, y_test = train_test_split(X_onehot, y, test_size=0.20, random_state=2)\n",
    "\n",
    "print('Training size (%): ', X_train.shape[0] / len(X))\n",
    "print('Testing size (%): ', X_test.shape[0] / len(X))"
   ]
  },
  {
   "cell_type": "markdown",
   "metadata": {},
   "source": [
    "#### DecisionTreeClassifier"
   ]
  },
  {
   "cell_type": "code",
   "execution_count": 18,
   "metadata": {},
   "outputs": [
    {
     "name": "stdout",
     "output_type": "stream",
     "text": [
      "DecisionTreeClassifier accuracy:  0.5631067961165048\n"
     ]
    }
   ],
   "source": [
    "clf = DecisionTreeClassifier()\n",
    "clf.fit(X_train, y_train)\n",
    "accuracy = clf.score(X_test, y_test)\n",
    "print('DecisionTreeClassifier accuracy: ', accuracy)"
   ]
  },
  {
   "cell_type": "markdown",
   "metadata": {},
   "source": [
    "Our baseline model has an accuracy of **0.563**."
   ]
  },
  {
   "cell_type": "markdown",
   "metadata": {},
   "source": [
    "# Building a Better Model"
   ]
  },
  {
   "cell_type": "markdown",
   "metadata": {},
   "source": [
    "In order to increase our prediction accuracy, there are a few things we can aim to accomplish:\n",
    "- Remove noisy features or merge new data\n",
    "- Engineer new features\n",
    "- Fine-tune model parameters"
   ]
  },
  {
   "cell_type": "markdown",
   "metadata": {},
   "source": [
    "### Removing Noisy Features"
   ]
  },
  {
   "cell_type": "markdown",
   "metadata": {},
   "source": [
    "Using our intuition, we can surmise that the columns `best_of`, `t_start`, and `ct_start` may introduce too much noise into our model, and therefore, it may be better to omit these. However, we may even consider principal component analysis (PCA) to have a more objective decision on feature reduction. "
   ]
  },
  {
   "cell_type": "code",
   "execution_count": 19,
   "metadata": {
    "scrolled": true
   },
   "outputs": [
    {
     "data": {
      "text/html": [
       "<div>\n",
       "<style scoped>\n",
       "    .dataframe tbody tr th:only-of-type {\n",
       "        vertical-align: middle;\n",
       "    }\n",
       "\n",
       "    .dataframe tbody tr th {\n",
       "        vertical-align: top;\n",
       "    }\n",
       "\n",
       "    .dataframe thead th {\n",
       "        text-align: right;\n",
       "    }\n",
       "</style>\n",
       "<table border=\"1\" class=\"dataframe\">\n",
       "  <thead>\n",
       "    <tr style=\"text-align: right;\">\n",
       "      <th></th>\n",
       "      <th>opp_team</th>\n",
       "      <th>_map</th>\n",
       "      <th>won</th>\n",
       "      <th>match_id</th>\n",
       "      <th>rank</th>\n",
       "      <th>opp_rank</th>\n",
       "    </tr>\n",
       "  </thead>\n",
       "  <tbody>\n",
       "    <tr>\n",
       "      <td>20</td>\n",
       "      <td>astralis</td>\n",
       "      <td>nuke</td>\n",
       "      <td>1</td>\n",
       "      <td>2339401</td>\n",
       "      <td>6</td>\n",
       "      <td>1</td>\n",
       "    </tr>\n",
       "    <tr>\n",
       "      <td>21</td>\n",
       "      <td>astralis</td>\n",
       "      <td>dust2</td>\n",
       "      <td>1</td>\n",
       "      <td>2339401</td>\n",
       "      <td>6</td>\n",
       "      <td>1</td>\n",
       "    </tr>\n",
       "    <tr>\n",
       "      <td>34</td>\n",
       "      <td>liquid</td>\n",
       "      <td>dust2</td>\n",
       "      <td>1</td>\n",
       "      <td>2339399</td>\n",
       "      <td>6</td>\n",
       "      <td>3</td>\n",
       "    </tr>\n",
       "    <tr>\n",
       "      <td>37</td>\n",
       "      <td>liquid</td>\n",
       "      <td>mirage</td>\n",
       "      <td>1</td>\n",
       "      <td>2339399</td>\n",
       "      <td>6</td>\n",
       "      <td>3</td>\n",
       "    </tr>\n",
       "    <tr>\n",
       "      <td>56</td>\n",
       "      <td>faze</td>\n",
       "      <td>inferno</td>\n",
       "      <td>1</td>\n",
       "      <td>2339397</td>\n",
       "      <td>6</td>\n",
       "      <td>9</td>\n",
       "    </tr>\n",
       "    <tr>\n",
       "      <td>...</td>\n",
       "      <td>...</td>\n",
       "      <td>...</td>\n",
       "      <td>...</td>\n",
       "      <td>...</td>\n",
       "      <td>...</td>\n",
       "      <td>...</td>\n",
       "    </tr>\n",
       "    <tr>\n",
       "      <td>31313</td>\n",
       "      <td>north</td>\n",
       "      <td>mirage</td>\n",
       "      <td>0</td>\n",
       "      <td>2311225</td>\n",
       "      <td>6</td>\n",
       "      <td>5</td>\n",
       "    </tr>\n",
       "    <tr>\n",
       "      <td>31317</td>\n",
       "      <td>mousesports</td>\n",
       "      <td>cobblestone</td>\n",
       "      <td>0</td>\n",
       "      <td>2311222</td>\n",
       "      <td>6</td>\n",
       "      <td>15</td>\n",
       "    </tr>\n",
       "    <tr>\n",
       "      <td>31320</td>\n",
       "      <td>nrg</td>\n",
       "      <td>cobblestone</td>\n",
       "      <td>1</td>\n",
       "      <td>2311235</td>\n",
       "      <td>6</td>\n",
       "      <td>31</td>\n",
       "    </tr>\n",
       "    <tr>\n",
       "      <td>31335</td>\n",
       "      <td>liquid</td>\n",
       "      <td>train</td>\n",
       "      <td>1</td>\n",
       "      <td>2311220</td>\n",
       "      <td>6</td>\n",
       "      <td>19</td>\n",
       "    </tr>\n",
       "    <tr>\n",
       "      <td>31695</td>\n",
       "      <td>fnatic</td>\n",
       "      <td>overpass</td>\n",
       "      <td>1</td>\n",
       "      <td>2309400</td>\n",
       "      <td>6</td>\n",
       "      <td>11</td>\n",
       "    </tr>\n",
       "  </tbody>\n",
       "</table>\n",
       "<p>514 rows × 6 columns</p>\n",
       "</div>"
      ],
      "text/plain": [
       "          opp_team         _map  won  match_id  rank  opp_rank\n",
       "20        astralis         nuke    1   2339401     6         1\n",
       "21        astralis        dust2    1   2339401     6         1\n",
       "34          liquid        dust2    1   2339399     6         3\n",
       "37          liquid       mirage    1   2339399     6         3\n",
       "56            faze      inferno    1   2339397     6         9\n",
       "...            ...          ...  ...       ...   ...       ...\n",
       "31313        north       mirage    0   2311225     6         5\n",
       "31317  mousesports  cobblestone    0   2311222     6        15\n",
       "31320          nrg  cobblestone    1   2311235     6        31\n",
       "31335       liquid        train    1   2311220     6        19\n",
       "31695       fnatic     overpass    1   2309400     6        11\n",
       "\n",
       "[514 rows x 6 columns]"
      ]
     },
     "execution_count": 19,
     "metadata": {},
     "output_type": "execute_result"
    }
   ],
   "source": [
    "df = df.drop(['best_of', 't_start', 'ct_start'], axis=1)\n",
    "df"
   ]
  },
  {
   "cell_type": "markdown",
   "metadata": {},
   "source": [
    "### Engineering New Features"
   ]
  },
  {
   "cell_type": "markdown",
   "metadata": {},
   "source": [
    "In a competitve game like CSGO, it seems like certain players/teams perform better on certain maps whether that be one side having more practice, more expertise, more advanced strategies, and etc. Because of this, engineering a feature that accounts for a team's preference, or pick (`picked`, `opp_picked`), may help better explain our data."
   ]
  },
  {
   "cell_type": "code",
   "execution_count": 20,
   "metadata": {},
   "outputs": [],
   "source": [
    "# extracting columns from `picks_df` for merging\n",
    "temp_1 = picks_df.loc[picks_df['team_1'] == 'Natus Vincere', ['team_1', 'team_2', 'match_id', 't1_removed_1', 't1_removed_2', 't1_removed_3', 't2_removed_1', 't2_removed_2', 't2_removed_3', 't1_picked_1', 't2_picked_1']]\n",
    "temp_1 = temp_1.applymap(lambda x: x.lower() if type(x) == str else x)\n",
    "temp_2 = picks_df.loc[picks_df['team_2'] == 'Natus Vincere', ['team_1', 'team_2', 'match_id', 't1_removed_1', 't1_removed_2', 't1_removed_3', 't2_removed_1', 't2_removed_2', 't2_removed_3', 't1_picked_1', 't2_picked_1']]\n",
    "temp_2 = temp_2.applymap(lambda x: x.lower() if type(x) == str else x)\n",
    "\n",
    "removed = {}\n",
    "opp_removed = {}\n",
    "picked = {}\n",
    "opp_picked = {}\n",
    "\n",
    "# looping through match id's for when Natus Vincere is team 1\n",
    "for index in temp_1['match_id']:\n",
    "    row = temp_1[temp_1['match_id'] == index]\n",
    "    \n",
    "    # Natus Vincere map picks\n",
    "    try:\n",
    "        picked[index].append(row['t1_picked_1'].iloc[0])\n",
    "    except:\n",
    "        picked[index] = [row['t1_picked_1'].iloc[0]]\n",
    "        \n",
    "    # opponent map picks\n",
    "    try:\n",
    "        opp_picked[index].append(row['t2_picked_1'].iloc[0])\n",
    "    except:\n",
    "        opp_picked[index] = [row['t2_picked_1'].iloc[0]]\n",
    "    \n",
    "# looping through unique match id's for when Natus Vincere is team 2\n",
    "for index in temp_2['match_id']:\n",
    "    row = temp_2[temp_2['match_id'] == index]\n",
    "    \n",
    "    # opponent map picks\n",
    "    try:\n",
    "        opp_picked[index].append(row['t1_picked_1'].iloc[0])\n",
    "    except:\n",
    "        opp_picked[index] = [row['t1_picked_1'].iloc[0]]\n",
    "       \n",
    "    # Natus Vincere map picks\n",
    "    try:\n",
    "        picked[index].append(row['t2_picked_1'].iloc[0])\n",
    "    except:\n",
    "        picked[index] = [row['t2_picked_1'].iloc[0]]"
   ]
  },
  {
   "cell_type": "code",
   "execution_count": 21,
   "metadata": {},
   "outputs": [
    {
     "data": {
      "text/html": [
       "<div>\n",
       "<style scoped>\n",
       "    .dataframe tbody tr th:only-of-type {\n",
       "        vertical-align: middle;\n",
       "    }\n",
       "\n",
       "    .dataframe tbody tr th {\n",
       "        vertical-align: top;\n",
       "    }\n",
       "\n",
       "    .dataframe thead th {\n",
       "        text-align: right;\n",
       "    }\n",
       "</style>\n",
       "<table border=\"1\" class=\"dataframe\">\n",
       "  <thead>\n",
       "    <tr style=\"text-align: right;\">\n",
       "      <th></th>\n",
       "      <th>opp_team</th>\n",
       "      <th>_map</th>\n",
       "      <th>won</th>\n",
       "      <th>match_id</th>\n",
       "      <th>rank</th>\n",
       "      <th>opp_rank</th>\n",
       "      <th>picked</th>\n",
       "      <th>opp_picked</th>\n",
       "    </tr>\n",
       "  </thead>\n",
       "  <tbody>\n",
       "    <tr>\n",
       "      <td>20</td>\n",
       "      <td>astralis</td>\n",
       "      <td>nuke</td>\n",
       "      <td>1</td>\n",
       "      <td>2339401</td>\n",
       "      <td>6</td>\n",
       "      <td>1</td>\n",
       "      <td>0</td>\n",
       "      <td>1</td>\n",
       "    </tr>\n",
       "    <tr>\n",
       "      <td>21</td>\n",
       "      <td>astralis</td>\n",
       "      <td>dust2</td>\n",
       "      <td>1</td>\n",
       "      <td>2339401</td>\n",
       "      <td>6</td>\n",
       "      <td>1</td>\n",
       "      <td>1</td>\n",
       "      <td>0</td>\n",
       "    </tr>\n",
       "    <tr>\n",
       "      <td>34</td>\n",
       "      <td>liquid</td>\n",
       "      <td>dust2</td>\n",
       "      <td>1</td>\n",
       "      <td>2339399</td>\n",
       "      <td>6</td>\n",
       "      <td>3</td>\n",
       "      <td>1</td>\n",
       "      <td>0</td>\n",
       "    </tr>\n",
       "    <tr>\n",
       "      <td>37</td>\n",
       "      <td>liquid</td>\n",
       "      <td>mirage</td>\n",
       "      <td>1</td>\n",
       "      <td>2339399</td>\n",
       "      <td>6</td>\n",
       "      <td>3</td>\n",
       "      <td>0</td>\n",
       "      <td>1</td>\n",
       "    </tr>\n",
       "    <tr>\n",
       "      <td>56</td>\n",
       "      <td>faze</td>\n",
       "      <td>inferno</td>\n",
       "      <td>1</td>\n",
       "      <td>2339397</td>\n",
       "      <td>6</td>\n",
       "      <td>9</td>\n",
       "      <td>0</td>\n",
       "      <td>0</td>\n",
       "    </tr>\n",
       "    <tr>\n",
       "      <td>...</td>\n",
       "      <td>...</td>\n",
       "      <td>...</td>\n",
       "      <td>...</td>\n",
       "      <td>...</td>\n",
       "      <td>...</td>\n",
       "      <td>...</td>\n",
       "      <td>...</td>\n",
       "      <td>...</td>\n",
       "    </tr>\n",
       "    <tr>\n",
       "      <td>31313</td>\n",
       "      <td>north</td>\n",
       "      <td>mirage</td>\n",
       "      <td>0</td>\n",
       "      <td>2311225</td>\n",
       "      <td>6</td>\n",
       "      <td>5</td>\n",
       "      <td>0</td>\n",
       "      <td>0</td>\n",
       "    </tr>\n",
       "    <tr>\n",
       "      <td>31317</td>\n",
       "      <td>mousesports</td>\n",
       "      <td>cobblestone</td>\n",
       "      <td>0</td>\n",
       "      <td>2311222</td>\n",
       "      <td>6</td>\n",
       "      <td>15</td>\n",
       "      <td>0</td>\n",
       "      <td>0</td>\n",
       "    </tr>\n",
       "    <tr>\n",
       "      <td>31320</td>\n",
       "      <td>nrg</td>\n",
       "      <td>cobblestone</td>\n",
       "      <td>1</td>\n",
       "      <td>2311235</td>\n",
       "      <td>6</td>\n",
       "      <td>31</td>\n",
       "      <td>0</td>\n",
       "      <td>0</td>\n",
       "    </tr>\n",
       "    <tr>\n",
       "      <td>31335</td>\n",
       "      <td>liquid</td>\n",
       "      <td>train</td>\n",
       "      <td>1</td>\n",
       "      <td>2311220</td>\n",
       "      <td>6</td>\n",
       "      <td>19</td>\n",
       "      <td>0</td>\n",
       "      <td>0</td>\n",
       "    </tr>\n",
       "    <tr>\n",
       "      <td>31695</td>\n",
       "      <td>fnatic</td>\n",
       "      <td>overpass</td>\n",
       "      <td>1</td>\n",
       "      <td>2309400</td>\n",
       "      <td>6</td>\n",
       "      <td>11</td>\n",
       "      <td>0</td>\n",
       "      <td>0</td>\n",
       "    </tr>\n",
       "  </tbody>\n",
       "</table>\n",
       "<p>514 rows × 8 columns</p>\n",
       "</div>"
      ],
      "text/plain": [
       "          opp_team         _map  won  match_id  rank  opp_rank  picked  \\\n",
       "20        astralis         nuke    1   2339401     6         1       0   \n",
       "21        astralis        dust2    1   2339401     6         1       1   \n",
       "34          liquid        dust2    1   2339399     6         3       1   \n",
       "37          liquid       mirage    1   2339399     6         3       0   \n",
       "56            faze      inferno    1   2339397     6         9       0   \n",
       "...            ...          ...  ...       ...   ...       ...     ...   \n",
       "31313        north       mirage    0   2311225     6         5       0   \n",
       "31317  mousesports  cobblestone    0   2311222     6        15       0   \n",
       "31320          nrg  cobblestone    1   2311235     6        31       0   \n",
       "31335       liquid        train    1   2311220     6        19       0   \n",
       "31695       fnatic     overpass    1   2309400     6        11       0   \n",
       "\n",
       "       opp_picked  \n",
       "20              1  \n",
       "21              0  \n",
       "34              0  \n",
       "37              1  \n",
       "56              0  \n",
       "...           ...  \n",
       "31313           0  \n",
       "31317           0  \n",
       "31320           0  \n",
       "31335           0  \n",
       "31695           0  \n",
       "\n",
       "[514 rows x 8 columns]"
      ]
     },
     "execution_count": 21,
     "metadata": {},
     "output_type": "execute_result"
    }
   ],
   "source": [
    "def picked_helper(row):\n",
    "    try:\n",
    "        if row['_map'] in picked[row['match_id']]:\n",
    "            return 1\n",
    "        else:\n",
    "            return 0\n",
    "    except:\n",
    "        return 0\n",
    "\n",
    "def opp_picked_helper(row):\n",
    "    try:\n",
    "        if row['_map'] in opp_picked[row['match_id']]:\n",
    "            return 1\n",
    "        else:\n",
    "            return 0\n",
    "    except:\n",
    "        return 0\n",
    "\n",
    "df = df.assign(**{'picked': df.apply(picked_helper, axis=1), 'opp_picked': df.apply(opp_picked_helper, axis=1)})\n",
    "df"
   ]
  },
  {
   "cell_type": "code",
   "execution_count": 22,
   "metadata": {},
   "outputs": [
    {
     "name": "stdout",
     "output_type": "stream",
     "text": [
      "DecisionTreeClassifier accuracy:  0.5825242718446602\n"
     ]
    }
   ],
   "source": [
    "X = df.drop('won', axis=1)\n",
    "y = df['won']\n",
    "\n",
    "# preprocessing data\n",
    "onehot = OneHotEncoder()\n",
    "X_onehot = onehot.fit_transform(X)\n",
    "\n",
    "# splitting data into training, testing, and validation sets\n",
    "X_train, X_test, y_train, y_test = train_test_split(X_onehot, y, test_size=0.20, random_state=2)\n",
    "\n",
    "clf = DecisionTreeClassifier()\n",
    "clf.fit(X_train, y_train)\n",
    "accuracy = clf.score(X_test, y_test)\n",
    "print('DecisionTreeClassifier accuracy: ', accuracy)"
   ]
  },
  {
   "cell_type": "markdown",
   "metadata": {},
   "source": [
    "After dropping noisy features and engineering, we get a new model accuracy of **0.583**."
   ]
  },
  {
   "cell_type": "markdown",
   "metadata": {},
   "source": [
    "### Fine Tuning Model Parameters"
   ]
  },
  {
   "cell_type": "code",
   "execution_count": 23,
   "metadata": {},
   "outputs": [],
   "source": [
    "from sklearn.model_selection import GridSearchCV"
   ]
  },
  {
   "cell_type": "markdown",
   "metadata": {},
   "source": [
    "After running grid search with the parameter array below on the DecisionTreeClassifier, we seem to get the best accuracy scores using `criterion = 'entropy'`, `max_depth = 2`, `min_samples_leaf = 2`, and `min_samples_split = 2`."
   ]
  },
  {
   "cell_type": "code",
   "execution_count": 24,
   "metadata": {},
   "outputs": [
    {
     "name": "stdout",
     "output_type": "stream",
     "text": [
      "0.5936739659367397\n",
      "{'criterion': 'gini', 'max_depth': 2, 'min_samples_leaf': 4, 'min_samples_split': 32}\n"
     ]
    },
    {
     "name": "stderr",
     "output_type": "stream",
     "text": [
      "C:\\Users\\jared\\Anaconda3\\lib\\site-packages\\sklearn\\model_selection\\_search.py:814: DeprecationWarning: The default of the `iid` parameter will change from True to False in version 0.22 and will be removed in 0.24. This will change numeric results when test-set sizes are unequal.\n",
      "  DeprecationWarning)\n"
     ]
    }
   ],
   "source": [
    "parameters = [{'criterion': ['gini','entropy'],\n",
    "               'max_depth': [None,2,4,8,16,32], \n",
    "               'min_samples_split': [2,4,8,16,32], \n",
    "               'min_samples_leaf': [2,4,8,16,32]}]\n",
    "\n",
    "# preprocessing data\n",
    "onehot = OneHotEncoder()\n",
    "X_onehot = onehot.fit_transform(X)\n",
    "\n",
    "# splitting data into training, testing, and validation sets\n",
    "X_train, X_test, y_train, y_test = train_test_split(X_onehot, y, test_size=0.20, random_state=2)\n",
    "\n",
    "grid_search = GridSearchCV(estimator=DecisionTreeClassifier(), param_grid=parameters, scoring='accuracy', cv=10, n_jobs=-1)\n",
    "grid_search=grid_search.fit(X_train, y_train)\n",
    "\n",
    "print(grid_search.best_score_)\n",
    "print(grid_search.best_params_)"
   ]
  },
  {
   "cell_type": "markdown",
   "metadata": {},
   "source": [
    "Running grid search informs that the ideal model parameters for `criterion`, `max_depth`, `min_samples_leaf`, and `min_samples_split` are `gini`, 2, 4, and 32, respectively."
   ]
  },
  {
   "cell_type": "code",
   "execution_count": 25,
   "metadata": {},
   "outputs": [
    {
     "name": "stdout",
     "output_type": "stream",
     "text": [
      "DecisionTreeClassifier accuracy:  0.5922330097087378\n"
     ]
    }
   ],
   "source": [
    "X = df.drop('won', axis=1).drop('_map', axis=1)\n",
    "y = df['won']\n",
    "\n",
    "# preprocessing data\n",
    "onehot = OneHotEncoder()\n",
    "X_onehot = onehot.fit_transform(X)\n",
    "\n",
    "# splitting data into training and testing sets\n",
    "X_train, X_test, y_train, y_test = train_test_split(X_onehot, y, test_size=0.20, random_state=2)\n",
    "\n",
    "clf = DecisionTreeClassifier(criterion='gini', max_depth=2, min_samples_leaf=4, min_samples_split=32)\n",
    "clf.fit(X_train, y_train)\n",
    "accuracy = clf.score(X_test, y_test)\n",
    "    \n",
    "print('DecisionTreeClassifier accuracy: ', accuracy)"
   ]
  },
  {
   "cell_type": "markdown",
   "metadata": {},
   "source": [
    "Our hyperparameter-tuned model has a new accurcay of **0.592**."
   ]
  },
  {
   "cell_type": "markdown",
   "metadata": {},
   "source": [
    "As a fun aside, we can observe how our model adjusts to insider information of maps such as the results of the first 5 rounds. Our intuition is that if the model can observe the results of the first 5 rounds, then it may perform better in predicting the final winner of the map."
   ]
  },
  {
   "cell_type": "code",
   "execution_count": 26,
   "metadata": {},
   "outputs": [
    {
     "data": {
      "text/html": [
       "<div>\n",
       "<style scoped>\n",
       "    .dataframe tbody tr th:only-of-type {\n",
       "        vertical-align: middle;\n",
       "    }\n",
       "\n",
       "    .dataframe tbody tr th {\n",
       "        vertical-align: top;\n",
       "    }\n",
       "\n",
       "    .dataframe thead th {\n",
       "        text-align: right;\n",
       "    }\n",
       "</style>\n",
       "<table border=\"1\" class=\"dataframe\">\n",
       "  <thead>\n",
       "    <tr style=\"text-align: right;\">\n",
       "      <th></th>\n",
       "      <th>opp_team</th>\n",
       "      <th>_map</th>\n",
       "      <th>won</th>\n",
       "      <th>match_id</th>\n",
       "      <th>rank</th>\n",
       "      <th>opp_rank</th>\n",
       "      <th>picked</th>\n",
       "      <th>opp_picked</th>\n",
       "      <th>1_winner</th>\n",
       "      <th>2_winner</th>\n",
       "      <th>3_winner</th>\n",
       "      <th>4_winner</th>\n",
       "      <th>5_winner</th>\n",
       "    </tr>\n",
       "  </thead>\n",
       "  <tbody>\n",
       "    <tr>\n",
       "      <td>0</td>\n",
       "      <td>astralis</td>\n",
       "      <td>nuke</td>\n",
       "      <td>1</td>\n",
       "      <td>2339401</td>\n",
       "      <td>6</td>\n",
       "      <td>1</td>\n",
       "      <td>0</td>\n",
       "      <td>1</td>\n",
       "      <td>0</td>\n",
       "      <td>1</td>\n",
       "      <td>1</td>\n",
       "      <td>1</td>\n",
       "      <td>1</td>\n",
       "    </tr>\n",
       "    <tr>\n",
       "      <td>1</td>\n",
       "      <td>astralis</td>\n",
       "      <td>dust2</td>\n",
       "      <td>1</td>\n",
       "      <td>2339401</td>\n",
       "      <td>6</td>\n",
       "      <td>1</td>\n",
       "      <td>1</td>\n",
       "      <td>0</td>\n",
       "      <td>1</td>\n",
       "      <td>1</td>\n",
       "      <td>1</td>\n",
       "      <td>0</td>\n",
       "      <td>1</td>\n",
       "    </tr>\n",
       "    <tr>\n",
       "      <td>2</td>\n",
       "      <td>liquid</td>\n",
       "      <td>dust2</td>\n",
       "      <td>1</td>\n",
       "      <td>2339399</td>\n",
       "      <td>6</td>\n",
       "      <td>3</td>\n",
       "      <td>1</td>\n",
       "      <td>0</td>\n",
       "      <td>1</td>\n",
       "      <td>0</td>\n",
       "      <td>0</td>\n",
       "      <td>0</td>\n",
       "      <td>1</td>\n",
       "    </tr>\n",
       "    <tr>\n",
       "      <td>3</td>\n",
       "      <td>liquid</td>\n",
       "      <td>mirage</td>\n",
       "      <td>1</td>\n",
       "      <td>2339399</td>\n",
       "      <td>6</td>\n",
       "      <td>3</td>\n",
       "      <td>0</td>\n",
       "      <td>1</td>\n",
       "      <td>1</td>\n",
       "      <td>0</td>\n",
       "      <td>0</td>\n",
       "      <td>0</td>\n",
       "      <td>1</td>\n",
       "    </tr>\n",
       "    <tr>\n",
       "      <td>4</td>\n",
       "      <td>faze</td>\n",
       "      <td>inferno</td>\n",
       "      <td>1</td>\n",
       "      <td>2339397</td>\n",
       "      <td>6</td>\n",
       "      <td>9</td>\n",
       "      <td>0</td>\n",
       "      <td>0</td>\n",
       "      <td>0</td>\n",
       "      <td>0</td>\n",
       "      <td>0</td>\n",
       "      <td>1</td>\n",
       "      <td>1</td>\n",
       "    </tr>\n",
       "    <tr>\n",
       "      <td>...</td>\n",
       "      <td>...</td>\n",
       "      <td>...</td>\n",
       "      <td>...</td>\n",
       "      <td>...</td>\n",
       "      <td>...</td>\n",
       "      <td>...</td>\n",
       "      <td>...</td>\n",
       "      <td>...</td>\n",
       "      <td>...</td>\n",
       "      <td>...</td>\n",
       "      <td>...</td>\n",
       "      <td>...</td>\n",
       "      <td>...</td>\n",
       "    </tr>\n",
       "    <tr>\n",
       "      <td>509</td>\n",
       "      <td>north</td>\n",
       "      <td>mirage</td>\n",
       "      <td>0</td>\n",
       "      <td>2311225</td>\n",
       "      <td>6</td>\n",
       "      <td>5</td>\n",
       "      <td>0</td>\n",
       "      <td>0</td>\n",
       "      <td>0</td>\n",
       "      <td>0</td>\n",
       "      <td>0</td>\n",
       "      <td>0</td>\n",
       "      <td>1</td>\n",
       "    </tr>\n",
       "    <tr>\n",
       "      <td>510</td>\n",
       "      <td>mousesports</td>\n",
       "      <td>cobblestone</td>\n",
       "      <td>0</td>\n",
       "      <td>2311222</td>\n",
       "      <td>6</td>\n",
       "      <td>15</td>\n",
       "      <td>0</td>\n",
       "      <td>0</td>\n",
       "      <td>0</td>\n",
       "      <td>0</td>\n",
       "      <td>1</td>\n",
       "      <td>0</td>\n",
       "      <td>0</td>\n",
       "    </tr>\n",
       "    <tr>\n",
       "      <td>511</td>\n",
       "      <td>nrg</td>\n",
       "      <td>cobblestone</td>\n",
       "      <td>1</td>\n",
       "      <td>2311235</td>\n",
       "      <td>6</td>\n",
       "      <td>31</td>\n",
       "      <td>0</td>\n",
       "      <td>0</td>\n",
       "      <td>1</td>\n",
       "      <td>1</td>\n",
       "      <td>1</td>\n",
       "      <td>1</td>\n",
       "      <td>1</td>\n",
       "    </tr>\n",
       "    <tr>\n",
       "      <td>512</td>\n",
       "      <td>liquid</td>\n",
       "      <td>train</td>\n",
       "      <td>1</td>\n",
       "      <td>2311220</td>\n",
       "      <td>6</td>\n",
       "      <td>19</td>\n",
       "      <td>0</td>\n",
       "      <td>0</td>\n",
       "      <td>0</td>\n",
       "      <td>0</td>\n",
       "      <td>1</td>\n",
       "      <td>1</td>\n",
       "      <td>1</td>\n",
       "    </tr>\n",
       "    <tr>\n",
       "      <td>513</td>\n",
       "      <td>fnatic</td>\n",
       "      <td>overpass</td>\n",
       "      <td>1</td>\n",
       "      <td>2309400</td>\n",
       "      <td>6</td>\n",
       "      <td>11</td>\n",
       "      <td>0</td>\n",
       "      <td>0</td>\n",
       "      <td>1</td>\n",
       "      <td>1</td>\n",
       "      <td>1</td>\n",
       "      <td>0</td>\n",
       "      <td>1</td>\n",
       "    </tr>\n",
       "  </tbody>\n",
       "</table>\n",
       "<p>514 rows × 13 columns</p>\n",
       "</div>"
      ],
      "text/plain": [
       "        opp_team         _map  won  match_id  rank  opp_rank  picked  \\\n",
       "0       astralis         nuke    1   2339401     6         1       0   \n",
       "1       astralis        dust2    1   2339401     6         1       1   \n",
       "2         liquid        dust2    1   2339399     6         3       1   \n",
       "3         liquid       mirage    1   2339399     6         3       0   \n",
       "4           faze      inferno    1   2339397     6         9       0   \n",
       "..           ...          ...  ...       ...   ...       ...     ...   \n",
       "509        north       mirage    0   2311225     6         5       0   \n",
       "510  mousesports  cobblestone    0   2311222     6        15       0   \n",
       "511          nrg  cobblestone    1   2311235     6        31       0   \n",
       "512       liquid        train    1   2311220     6        19       0   \n",
       "513       fnatic     overpass    1   2309400     6        11       0   \n",
       "\n",
       "     opp_picked  1_winner  2_winner  3_winner  4_winner  5_winner  \n",
       "0             1         0         1         1         1         1  \n",
       "1             0         1         1         1         0         1  \n",
       "2             0         1         0         0         0         1  \n",
       "3             1         1         0         0         0         1  \n",
       "4             0         0         0         0         1         1  \n",
       "..          ...       ...       ...       ...       ...       ...  \n",
       "509           0         0         0         0         0         1  \n",
       "510           0         0         0         1         0         0  \n",
       "511           0         1         1         1         1         1  \n",
       "512           0         0         0         1         1         1  \n",
       "513           0         1         1         1         0         1  \n",
       "\n",
       "[514 rows x 13 columns]"
      ]
     },
     "execution_count": 26,
     "metadata": {},
     "output_type": "execute_result"
    }
   ],
   "source": [
    "def df_n_rounds(df, n):\n",
    "    \n",
    "    n_rounds = n\n",
    "\n",
    "    columns = ['match_id', 'team_1', 'team_2', '_map']\n",
    "    # appending 'n_rounds' rounds\n",
    "    for i in range(n_rounds):\n",
    "        columns.append(str(i+1) + '_winner')\n",
    "\n",
    "    # creating 'temp_1' for when 'Natus Vincere' is team 1 and 'temp_2' for when Natus Vincere is team 2\n",
    "    # converting strings to lower\n",
    "    temp_1 = economy_df.loc[economy_df['team_1'] == 'Natus Vincere', columns]\n",
    "    temp_1 = temp_1.applymap(lambda x: x.lower() if type(x) == str else x)\n",
    "    temp_2 = economy_df.loc[economy_df['team_2'] == 'Natus Vincere', columns]\n",
    "    temp_2 = temp_2.applymap(lambda x: x.lower() if type(x) == str else x)\n",
    "\n",
    "    # renaming columns prior to concatenating\n",
    "    temp_1 = temp_1.drop('team_1', axis=1).rename(columns={'team_2': 'opp_team'})\n",
    "    temp_2 = temp_2.drop('team_2', axis=1).rename(columns={'team_1': 'opp_team'})\n",
    "\n",
    "    # converting the values of each round winner to binary\n",
    "    for i in range(n_rounds):\n",
    "        temp_1[str(i+1) + '_winner'] = temp_1[str(i+1) + '_winner'].apply(lambda x: 1 if x == 1 else 0)\n",
    "        temp_2[str(i+1) + '_winner'] = temp_2[str(i+1) + '_winner'].apply(lambda x: 1 if x == 2 else 0)\n",
    "\n",
    "    output = pd.concat([temp_1, temp_2], sort=False)\n",
    "    output = df.merge(output, on=['opp_team', 'match_id', '_map'])\n",
    "    return output\n",
    "\n",
    "df_5_rounds = df_n_rounds(df, 5)\n",
    "df_5_rounds"
   ]
  },
  {
   "cell_type": "code",
   "execution_count": 27,
   "metadata": {},
   "outputs": [
    {
     "name": "stdout",
     "output_type": "stream",
     "text": [
      "DecisionTreeClassifier accuracy:  0.6699029126213593\n"
     ]
    }
   ],
   "source": [
    "X = df_5_rounds.drop('won', axis=1).drop('_map', axis=1)\n",
    "y = df_5_rounds['won']\n",
    "\n",
    "# preprocessing data\n",
    "onehot = OneHotEncoder()\n",
    "X_onehot = onehot.fit_transform(X)\n",
    "\n",
    "# splitting data into training and testing sets\n",
    "X_train, X_test, y_train, y_test = train_test_split(X_onehot, y, test_size=0.20, random_state=2)\n",
    "\n",
    "clf = DecisionTreeClassifier(criterion='gini', max_depth=2, min_samples_leaf=4, min_samples_split=32)\n",
    "clf.fit(X_train, y_train)\n",
    "accuracy = clf.score(X_test, y_test)\n",
    "\n",
    "print('DecisionTreeClassifier accuracy: ', accuracy)"
   ]
  },
  {
   "cell_type": "markdown",
   "metadata": {},
   "source": [
    "With this experimental model, we get an accuracy of **0.670**."
   ]
  },
  {
   "cell_type": "markdown",
   "metadata": {},
   "source": [
    "# A/B Testing"
   ]
  },
  {
   "cell_type": "markdown",
   "metadata": {},
   "source": [
    "Tying loose ends with our EDA from earlier, we may be curious as to why so many players of the top 10 mean ranking teams have players of Swedish origin. Here, we will conduct an A/B test to determine whether the teams of Swedish players have higher mean rank than the teams of United States players at a significant degree. We will use a significance level of alpha = 0.05.\n",
    "\n",
    "- Null hypothesis: The teams of Swedish players have equal mean rank as the teams of United States players.\n",
    "- Alternative hypothesis: The teams of Swedish players have higher mean rank than the teams of United States players"
   ]
  },
  {
   "cell_type": "code",
   "execution_count": 28,
   "metadata": {},
   "outputs": [
    {
     "data": {
      "text/html": [
       "<div>\n",
       "<style scoped>\n",
       "    .dataframe tbody tr th:only-of-type {\n",
       "        vertical-align: middle;\n",
       "    }\n",
       "\n",
       "    .dataframe tbody tr th {\n",
       "        vertical-align: top;\n",
       "    }\n",
       "\n",
       "    .dataframe thead th {\n",
       "        text-align: right;\n",
       "    }\n",
       "</style>\n",
       "<table border=\"1\" class=\"dataframe\">\n",
       "  <thead>\n",
       "    <tr style=\"text-align: right;\">\n",
       "      <th></th>\n",
       "      <th>date</th>\n",
       "      <th>team_1</th>\n",
       "      <th>team_2</th>\n",
       "      <th>_map</th>\n",
       "      <th>result_1</th>\n",
       "      <th>result_2</th>\n",
       "      <th>map_winner</th>\n",
       "      <th>starting_ct</th>\n",
       "      <th>ct_1</th>\n",
       "      <th>t_2</th>\n",
       "      <th>t_1</th>\n",
       "      <th>ct_2</th>\n",
       "      <th>event_id</th>\n",
       "      <th>match_id</th>\n",
       "      <th>rank_1</th>\n",
       "      <th>rank_2</th>\n",
       "      <th>map_wins_1</th>\n",
       "      <th>map_wins_2</th>\n",
       "      <th>match_winner</th>\n",
       "    </tr>\n",
       "  </thead>\n",
       "  <tbody>\n",
       "    <tr>\n",
       "      <td>0</td>\n",
       "      <td>2020-03-18</td>\n",
       "      <td>Recon 5</td>\n",
       "      <td>TeamOne</td>\n",
       "      <td>Dust2</td>\n",
       "      <td>0</td>\n",
       "      <td>16</td>\n",
       "      <td>2</td>\n",
       "      <td>2</td>\n",
       "      <td>0</td>\n",
       "      <td>1</td>\n",
       "      <td>0</td>\n",
       "      <td>15</td>\n",
       "      <td>5151</td>\n",
       "      <td>2340454</td>\n",
       "      <td>62</td>\n",
       "      <td>63</td>\n",
       "      <td>0</td>\n",
       "      <td>2</td>\n",
       "      <td>2</td>\n",
       "    </tr>\n",
       "    <tr>\n",
       "      <td>1</td>\n",
       "      <td>2020-03-18</td>\n",
       "      <td>Recon 5</td>\n",
       "      <td>TeamOne</td>\n",
       "      <td>Inferno</td>\n",
       "      <td>13</td>\n",
       "      <td>16</td>\n",
       "      <td>2</td>\n",
       "      <td>2</td>\n",
       "      <td>8</td>\n",
       "      <td>6</td>\n",
       "      <td>5</td>\n",
       "      <td>10</td>\n",
       "      <td>5151</td>\n",
       "      <td>2340454</td>\n",
       "      <td>62</td>\n",
       "      <td>63</td>\n",
       "      <td>0</td>\n",
       "      <td>2</td>\n",
       "      <td>2</td>\n",
       "    </tr>\n",
       "    <tr>\n",
       "      <td>2</td>\n",
       "      <td>2020-03-18</td>\n",
       "      <td>New England Whalers</td>\n",
       "      <td>Station7</td>\n",
       "      <td>Inferno</td>\n",
       "      <td>12</td>\n",
       "      <td>16</td>\n",
       "      <td>2</td>\n",
       "      <td>1</td>\n",
       "      <td>9</td>\n",
       "      <td>6</td>\n",
       "      <td>3</td>\n",
       "      <td>10</td>\n",
       "      <td>5243</td>\n",
       "      <td>2340461</td>\n",
       "      <td>140</td>\n",
       "      <td>118</td>\n",
       "      <td>12</td>\n",
       "      <td>16</td>\n",
       "      <td>2</td>\n",
       "    </tr>\n",
       "    <tr>\n",
       "      <td>3</td>\n",
       "      <td>2020-03-18</td>\n",
       "      <td>Rugratz</td>\n",
       "      <td>Bad News Bears</td>\n",
       "      <td>Inferno</td>\n",
       "      <td>7</td>\n",
       "      <td>16</td>\n",
       "      <td>2</td>\n",
       "      <td>2</td>\n",
       "      <td>0</td>\n",
       "      <td>8</td>\n",
       "      <td>7</td>\n",
       "      <td>8</td>\n",
       "      <td>5151</td>\n",
       "      <td>2340453</td>\n",
       "      <td>61</td>\n",
       "      <td>38</td>\n",
       "      <td>0</td>\n",
       "      <td>2</td>\n",
       "      <td>2</td>\n",
       "    </tr>\n",
       "    <tr>\n",
       "      <td>4</td>\n",
       "      <td>2020-03-18</td>\n",
       "      <td>Rugratz</td>\n",
       "      <td>Bad News Bears</td>\n",
       "      <td>Vertigo</td>\n",
       "      <td>8</td>\n",
       "      <td>16</td>\n",
       "      <td>2</td>\n",
       "      <td>2</td>\n",
       "      <td>4</td>\n",
       "      <td>5</td>\n",
       "      <td>4</td>\n",
       "      <td>11</td>\n",
       "      <td>5151</td>\n",
       "      <td>2340453</td>\n",
       "      <td>61</td>\n",
       "      <td>38</td>\n",
       "      <td>0</td>\n",
       "      <td>2</td>\n",
       "      <td>2</td>\n",
       "    </tr>\n",
       "    <tr>\n",
       "      <td>...</td>\n",
       "      <td>...</td>\n",
       "      <td>...</td>\n",
       "      <td>...</td>\n",
       "      <td>...</td>\n",
       "      <td>...</td>\n",
       "      <td>...</td>\n",
       "      <td>...</td>\n",
       "      <td>...</td>\n",
       "      <td>...</td>\n",
       "      <td>...</td>\n",
       "      <td>...</td>\n",
       "      <td>...</td>\n",
       "      <td>...</td>\n",
       "      <td>...</td>\n",
       "      <td>...</td>\n",
       "      <td>...</td>\n",
       "      <td>...</td>\n",
       "      <td>...</td>\n",
       "      <td>...</td>\n",
       "    </tr>\n",
       "    <tr>\n",
       "      <td>45768</td>\n",
       "      <td>2015-11-05</td>\n",
       "      <td>G2</td>\n",
       "      <td>E-frag.net</td>\n",
       "      <td>Inferno</td>\n",
       "      <td>13</td>\n",
       "      <td>16</td>\n",
       "      <td>2</td>\n",
       "      <td>1</td>\n",
       "      <td>8</td>\n",
       "      <td>7</td>\n",
       "      <td>5</td>\n",
       "      <td>9</td>\n",
       "      <td>1970</td>\n",
       "      <td>2299059</td>\n",
       "      <td>7</td>\n",
       "      <td>16</td>\n",
       "      <td>1</td>\n",
       "      <td>2</td>\n",
       "      <td>2</td>\n",
       "    </tr>\n",
       "    <tr>\n",
       "      <td>45769</td>\n",
       "      <td>2015-11-05</td>\n",
       "      <td>G2</td>\n",
       "      <td>E-frag.net</td>\n",
       "      <td>Dust2</td>\n",
       "      <td>16</td>\n",
       "      <td>13</td>\n",
       "      <td>1</td>\n",
       "      <td>1</td>\n",
       "      <td>10</td>\n",
       "      <td>5</td>\n",
       "      <td>6</td>\n",
       "      <td>8</td>\n",
       "      <td>1970</td>\n",
       "      <td>2299059</td>\n",
       "      <td>7</td>\n",
       "      <td>16</td>\n",
       "      <td>1</td>\n",
       "      <td>2</td>\n",
       "      <td>2</td>\n",
       "    </tr>\n",
       "    <tr>\n",
       "      <td>45770</td>\n",
       "      <td>2015-11-04</td>\n",
       "      <td>CLG</td>\n",
       "      <td>Liquid</td>\n",
       "      <td>Inferno</td>\n",
       "      <td>16</td>\n",
       "      <td>12</td>\n",
       "      <td>1</td>\n",
       "      <td>1</td>\n",
       "      <td>7</td>\n",
       "      <td>8</td>\n",
       "      <td>9</td>\n",
       "      <td>4</td>\n",
       "      <td>1934</td>\n",
       "      <td>2299011</td>\n",
       "      <td>10</td>\n",
       "      <td>14</td>\n",
       "      <td>16</td>\n",
       "      <td>12</td>\n",
       "      <td>1</td>\n",
       "    </tr>\n",
       "    <tr>\n",
       "      <td>45771</td>\n",
       "      <td>2015-11-03</td>\n",
       "      <td>NiP</td>\n",
       "      <td>Dignitas</td>\n",
       "      <td>Train</td>\n",
       "      <td>16</td>\n",
       "      <td>4</td>\n",
       "      <td>1</td>\n",
       "      <td>2</td>\n",
       "      <td>4</td>\n",
       "      <td>1</td>\n",
       "      <td>12</td>\n",
       "      <td>3</td>\n",
       "      <td>1934</td>\n",
       "      <td>2299001</td>\n",
       "      <td>6</td>\n",
       "      <td>12</td>\n",
       "      <td>16</td>\n",
       "      <td>4</td>\n",
       "      <td>1</td>\n",
       "    </tr>\n",
       "    <tr>\n",
       "      <td>45772</td>\n",
       "      <td>2015-11-03</td>\n",
       "      <td>NiP</td>\n",
       "      <td>Envy</td>\n",
       "      <td>Cobblestone</td>\n",
       "      <td>16</td>\n",
       "      <td>9</td>\n",
       "      <td>1</td>\n",
       "      <td>2</td>\n",
       "      <td>4</td>\n",
       "      <td>6</td>\n",
       "      <td>12</td>\n",
       "      <td>3</td>\n",
       "      <td>1934</td>\n",
       "      <td>2299003</td>\n",
       "      <td>6</td>\n",
       "      <td>1</td>\n",
       "      <td>16</td>\n",
       "      <td>9</td>\n",
       "      <td>1</td>\n",
       "    </tr>\n",
       "  </tbody>\n",
       "</table>\n",
       "<p>45773 rows × 19 columns</p>\n",
       "</div>"
      ],
      "text/plain": [
       "             date               team_1          team_2         _map  result_1  \\\n",
       "0      2020-03-18              Recon 5         TeamOne        Dust2         0   \n",
       "1      2020-03-18              Recon 5         TeamOne      Inferno        13   \n",
       "2      2020-03-18  New England Whalers        Station7      Inferno        12   \n",
       "3      2020-03-18              Rugratz  Bad News Bears      Inferno         7   \n",
       "4      2020-03-18              Rugratz  Bad News Bears      Vertigo         8   \n",
       "...           ...                  ...             ...          ...       ...   \n",
       "45768  2015-11-05                   G2      E-frag.net      Inferno        13   \n",
       "45769  2015-11-05                   G2      E-frag.net        Dust2        16   \n",
       "45770  2015-11-04                  CLG          Liquid      Inferno        16   \n",
       "45771  2015-11-03                  NiP        Dignitas        Train        16   \n",
       "45772  2015-11-03                  NiP            Envy  Cobblestone        16   \n",
       "\n",
       "       result_2  map_winner  starting_ct  ct_1  t_2  t_1  ct_2  event_id  \\\n",
       "0            16           2            2     0    1    0    15      5151   \n",
       "1            16           2            2     8    6    5    10      5151   \n",
       "2            16           2            1     9    6    3    10      5243   \n",
       "3            16           2            2     0    8    7     8      5151   \n",
       "4            16           2            2     4    5    4    11      5151   \n",
       "...         ...         ...          ...   ...  ...  ...   ...       ...   \n",
       "45768        16           2            1     8    7    5     9      1970   \n",
       "45769        13           1            1    10    5    6     8      1970   \n",
       "45770        12           1            1     7    8    9     4      1934   \n",
       "45771         4           1            2     4    1   12     3      1934   \n",
       "45772         9           1            2     4    6   12     3      1934   \n",
       "\n",
       "       match_id  rank_1  rank_2  map_wins_1  map_wins_2  match_winner  \n",
       "0       2340454      62      63           0           2             2  \n",
       "1       2340454      62      63           0           2             2  \n",
       "2       2340461     140     118          12          16             2  \n",
       "3       2340453      61      38           0           2             2  \n",
       "4       2340453      61      38           0           2             2  \n",
       "...         ...     ...     ...         ...         ...           ...  \n",
       "45768   2299059       7      16           1           2             2  \n",
       "45769   2299059       7      16           1           2             2  \n",
       "45770   2299011      10      14          16          12             1  \n",
       "45771   2299001       6      12          16           4             1  \n",
       "45772   2299003       6       1          16           9             1  \n",
       "\n",
       "[45773 rows x 19 columns]"
      ]
     },
     "execution_count": 28,
     "metadata": {},
     "output_type": "execute_result"
    }
   ],
   "source": [
    "results_df"
   ]
  },
  {
   "cell_type": "code",
   "execution_count": 29,
   "metadata": {},
   "outputs": [],
   "source": [
    "temp = players_df[['date', 'player_name', 'country']]\n",
    "temp = temp[(temp['country'] == 'United States') | (temp['country'] == 'Sweden')]"
   ]
  },
  {
   "cell_type": "code",
   "execution_count": 30,
   "metadata": {},
   "outputs": [],
   "source": [
    "indexes = []\n",
    "for player in temp['player_name'].unique():\n",
    "    indexes.append(temp[temp['player_name'] == player].sort_values(by='date', ascending=False).index[0])"
   ]
  },
  {
   "cell_type": "code",
   "execution_count": 31,
   "metadata": {},
   "outputs": [],
   "source": [
    "players = players_df.iloc[indexes][['player_name', 'team', 'country']]\n",
    "players['team'] = players['team'].str.lower()\n",
    "pivot_df = pivot_df.assign(**{'team': pivot_df.index})"
   ]
  },
  {
   "cell_type": "code",
   "execution_count": 32,
   "metadata": {},
   "outputs": [],
   "source": [
    "merged_df = players.merge(pivot_df, on='team', how='left').dropna()[['country', 'mean_rank']]"
   ]
  },
  {
   "cell_type": "code",
   "execution_count": 33,
   "metadata": {},
   "outputs": [],
   "source": [
    "us = merged_df[merged_df['country'] == 'United States']\n",
    "s = merged_df[merged_df['country'] == 'Sweden']"
   ]
  },
  {
   "cell_type": "code",
   "execution_count": 34,
   "metadata": {},
   "outputs": [],
   "source": [
    "us_mean = us['mean_rank'].mean()\n",
    "s_mean = s['mean_rank'].mean()\n",
    "\n",
    "us_var = us['mean_rank'].var()\n",
    "s_var = s['mean_rank'].var()\n",
    "\n",
    "us_count = len(us)\n",
    "s_count = len(s)\n",
    "\n",
    "table = pd.DataFrame({'mean': [us_mean, s_mean], 'var': [us_var, s_var], 'count': [us_count, s_count]}, index=['United States', 'Sweden'])"
   ]
  },
  {
   "cell_type": "code",
   "execution_count": 35,
   "metadata": {},
   "outputs": [
    {
     "data": {
      "text/html": [
       "<div>\n",
       "<style scoped>\n",
       "    .dataframe tbody tr th:only-of-type {\n",
       "        vertical-align: middle;\n",
       "    }\n",
       "\n",
       "    .dataframe tbody tr th {\n",
       "        vertical-align: top;\n",
       "    }\n",
       "\n",
       "    .dataframe thead th {\n",
       "        text-align: right;\n",
       "    }\n",
       "</style>\n",
       "<table border=\"1\" class=\"dataframe\">\n",
       "  <thead>\n",
       "    <tr style=\"text-align: right;\">\n",
       "      <th></th>\n",
       "      <th>mean</th>\n",
       "      <th>var</th>\n",
       "      <th>count</th>\n",
       "    </tr>\n",
       "  </thead>\n",
       "  <tbody>\n",
       "    <tr>\n",
       "      <td>United States</td>\n",
       "      <td>146.324496</td>\n",
       "      <td>4943.368106</td>\n",
       "      <td>630</td>\n",
       "    </tr>\n",
       "    <tr>\n",
       "      <td>Sweden</td>\n",
       "      <td>109.531034</td>\n",
       "      <td>3344.937534</td>\n",
       "      <td>259</td>\n",
       "    </tr>\n",
       "  </tbody>\n",
       "</table>\n",
       "</div>"
      ],
      "text/plain": [
       "                     mean          var  count\n",
       "United States  146.324496  4943.368106    630\n",
       "Sweden         109.531034  3344.937534    259"
      ]
     },
     "execution_count": 35,
     "metadata": {},
     "output_type": "execute_result"
    }
   ],
   "source": [
    "table"
   ]
  },
  {
   "cell_type": "code",
   "execution_count": 36,
   "metadata": {},
   "outputs": [
    {
     "data": {
      "text/plain": [
       "diff       3.679346e+01\n",
       "z_score    8.074990e+00\n",
       "p_value    2.765181e-15\n",
       "dtype: float64"
      ]
     },
     "execution_count": 36,
     "metadata": {},
     "output_type": "execute_result"
    }
   ],
   "source": [
    "from scipy.stats import norm\n",
    "\n",
    "diff = table['mean'][0] - table['mean'][1]\n",
    "z_score = diff / (np.sqrt(us_var/us_count+s_var/s_count))\n",
    "p_value = norm.pdf(z_score)\n",
    "\n",
    "pd.Series([diff, z_score, p_value], index=['diff', 'z_score', 'p_value'])"
   ]
  },
  {
   "cell_type": "markdown",
   "metadata": {},
   "source": [
    "With a p-value of **2.765e-15** < 0.05, we reject our null hypothesis. We found statistically significant evidence that the teams of Swedish players have higher mean rankings than the teams of United States players."
   ]
  }
 ],
 "metadata": {
  "kernelspec": {
   "display_name": "Python 3",
   "language": "python",
   "name": "python3"
  },
  "language_info": {
   "codemirror_mode": {
    "name": "ipython",
    "version": 3
   },
   "file_extension": ".py",
   "mimetype": "text/x-python",
   "name": "python",
   "nbconvert_exporter": "python",
   "pygments_lexer": "ipython3",
   "version": "3.7.4"
  }
 },
 "nbformat": 4,
 "nbformat_minor": 2
}
